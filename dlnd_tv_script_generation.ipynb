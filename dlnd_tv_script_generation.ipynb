{
 "cells": [
  {
   "cell_type": "markdown",
   "metadata": {
    "deletable": true,
    "editable": true
   },
   "source": [
    "# TV Script Generation\n",
    "In this project, you'll generate your own [Simpsons](https://en.wikipedia.org/wiki/The_Simpsons) TV scripts using RNNs.  You'll be using part of the [Simpsons dataset](https://www.kaggle.com/wcukierski/the-simpsons-by-the-data) of scripts from 27 seasons.  The Neural Network you'll build will generate a new TV script for a scene at [Moe's Tavern](https://simpsonswiki.com/wiki/Moe's_Tavern).\n",
    "## Get the Data\n",
    "The data is already provided for you.  You'll be using a subset of the original dataset.  It consists of only the scenes in Moe's Tavern.  This doesn't include other versions of the tavern, like \"Moe's Cavern\", \"Flaming Moe's\", \"Uncle Moe's Family Feed-Bag\", etc.."
   ]
  },
  {
   "cell_type": "code",
   "execution_count": 1,
   "metadata": {
    "collapsed": false,
    "deletable": true,
    "editable": true
   },
   "outputs": [],
   "source": [
    "\"\"\"\n",
    "DON'T MODIFY ANYTHING IN THIS CELL\n",
    "\"\"\"\n",
    "import helper\n",
    "\n",
    "data_dir = './data/simpsons/moes_tavern_lines.txt'\n",
    "text = helper.load_data(data_dir)\n",
    "# Ignore notice, since we don't use it for analysing the data\n",
    "text = text[81:]"
   ]
  },
  {
   "cell_type": "markdown",
   "metadata": {
    "deletable": true,
    "editable": true
   },
   "source": [
    "## Explore the Data\n",
    "Play around with `view_sentence_range` to view different parts of the data."
   ]
  },
  {
   "cell_type": "code",
   "execution_count": 2,
   "metadata": {
    "collapsed": false,
    "deletable": true,
    "editable": true
   },
   "outputs": [
    {
     "name": "stdout",
     "output_type": "stream",
     "text": [
      "Dataset Stats\n",
      "Roughly the number of unique words: 11490\n",
      "Number of scenes: 262\n",
      "Average number of sentences in each scene: 15.248091603053435\n",
      "Number of lines: 4257\n",
      "Average number of words in each line: 11.50434578341555\n",
      "\n",
      "The sentences 0 to 10:\n",
      "oe_Szyslak: (INTO PHONE) Moe's Tavern. Where the elite meet to drink.\n",
      "Bart_Simpson: Eh, yeah, hello, is Mike there? Last name, Rotch.\n",
      "Moe_Szyslak: (INTO PHONE) Hold on, I'll check. (TO BARFLIES) Mike Rotch. Mike Rotch. Hey, has anybody seen Mike Rotch, lately?\n",
      "Moe_Szyslak: (INTO PHONE) Listen you little puke. One of these days I'm gonna catch you, and I'm gonna carve my name on your back with an ice pick.\n",
      "Moe_Szyslak: What's the matter Homer? You're not your normal effervescent self.\n",
      "Homer_Simpson: I got my problems, Moe. Give me another one.\n",
      "Moe_Szyslak: Homer, hey, you should not drink to forget your problems.\n",
      "Barney_Gumble: Yeah, you should only drink to enhance your social skills.\n",
      "\n",
      "\n"
     ]
    }
   ],
   "source": [
    "view_sentence_range = (0, 10)\n",
    "\n",
    "\"\"\"\n",
    "DON'T MODIFY ANYTHING IN THIS CELL\n",
    "\"\"\"\n",
    "import numpy as np\n",
    "\n",
    "print('Dataset Stats')\n",
    "print('Roughly the number of unique words: {}'.format(len({word: None for word in text.split()})))\n",
    "scenes = text.split('\\n\\n')\n",
    "print('Number of scenes: {}'.format(len(scenes)))\n",
    "sentence_count_scene = [scene.count('\\n') for scene in scenes]\n",
    "print('Average number of sentences in each scene: {}'.format(np.average(sentence_count_scene)))\n",
    "\n",
    "sentences = [sentence for scene in scenes for sentence in scene.split('\\n')]\n",
    "print('Number of lines: {}'.format(len(sentences)))\n",
    "word_count_sentence = [len(sentence.split()) for sentence in sentences]\n",
    "print('Average number of words in each line: {}'.format(np.average(word_count_sentence)))\n",
    "\n",
    "print()\n",
    "print('The sentences {} to {}:'.format(*view_sentence_range))\n",
    "print('\\n'.join(text.split('\\n')[view_sentence_range[0]:view_sentence_range[1]]))"
   ]
  },
  {
   "cell_type": "markdown",
   "metadata": {
    "deletable": true,
    "editable": true
   },
   "source": [
    "## Implement Preprocessing Functions\n",
    "The first thing to do to any dataset is preprocessing.  Implement the following preprocessing functions below:\n",
    "- Lookup Table\n",
    "- Tokenize Punctuation\n",
    "\n",
    "### Lookup Table\n",
    "To create a word embedding, you first need to transform the words to ids.  In this function, create two dictionaries:\n",
    "- Dictionary to go from the words to an id, we'll call `vocab_to_int`\n",
    "- Dictionary to go from the id to word, we'll call `int_to_vocab`\n",
    "\n",
    "Return these dictionaries in the following tuple `(vocab_to_int, int_to_vocab)`"
   ]
  },
  {
   "cell_type": "code",
   "execution_count": 3,
   "metadata": {
    "collapsed": false,
    "deletable": true,
    "editable": true
   },
   "outputs": [
    {
     "name": "stderr",
     "output_type": "stream",
     "text": [
      "/home/ubuntu/anaconda3/envs/tensorflow_p36/lib/python3.6/site-packages/h5py/__init__.py:36: FutureWarning: Conversion of the second argument of issubdtype from `float` to `np.floating` is deprecated. In future, it will be treated as `np.float64 == np.dtype(float).type`.\n",
      "  from ._conv import register_converters as _register_converters\n"
     ]
    },
    {
     "name": "stdout",
     "output_type": "stream",
     "text": [
      "Tests Passed\n"
     ]
    }
   ],
   "source": [
    "import numpy as np\n",
    "import problem_unittests as tests\n",
    "from collections import Counter\n",
    "\n",
    "def create_lookup_tables(text):\n",
    "    \"\"\"\n",
    "    Create lookup tables for vocabulary\n",
    "    :param text: The text of tv scripts split into words\n",
    "    :return: A tuple of dicts (vocab_to_int, int_to_vocab)\n",
    "    \"\"\"\n",
    "    # TODO: Implement Function\n",
    "    text_count = Counter(text)\n",
    "    sorted_vocab = sorted(text_count, key=text_count.get, reverse=True)\n",
    "    int_to_vocab = {ii: word for ii, word in enumerate(sorted_vocab)}\n",
    "    vocab_to_int = {word: ii for ii, word in int_to_vocab.items()}\n",
    "    return (vocab_to_int, int_to_vocab)\n",
    "\n",
    "\n",
    "\"\"\"\n",
    "DON'T MODIFY ANYTHING IN THIS CELL THAT IS BELOW THIS LINE\n",
    "\"\"\"\n",
    "tests.test_create_lookup_tables(create_lookup_tables)"
   ]
  },
  {
   "cell_type": "markdown",
   "metadata": {
    "deletable": true,
    "editable": true
   },
   "source": [
    "### Tokenize Punctuation\n",
    "We'll be splitting the script into a word array using spaces as delimiters.  However, punctuations like periods and exclamation marks make it hard for the neural network to distinguish between the word \"bye\" and \"bye!\".\n",
    "\n",
    "Implement the function `token_lookup` to return a dict that will be used to tokenize symbols like \"!\" into \"||Exclamation_Mark||\".  Create a dictionary for the following symbols where the symbol is the key and value is the token:\n",
    "- Period ( . )\n",
    "- Comma ( , )\n",
    "- Quotation Mark ( \" )\n",
    "- Semicolon ( ; )\n",
    "- Exclamation mark ( ! )\n",
    "- Question mark ( ? )\n",
    "- Left Parentheses ( ( )\n",
    "- Right Parentheses ( ) )\n",
    "- Dash ( -- )\n",
    "- Return ( \\n )\n",
    "\n",
    "This dictionary will be used to token the symbols and add the delimiter (space) around it.  This separates the symbols as it's own word, making it easier for the neural network to predict on the next word. Make sure you don't use a token that could be confused as a word. Instead of using the token \"dash\", try using something like \"||dash||\"."
   ]
  },
  {
   "cell_type": "code",
   "execution_count": 4,
   "metadata": {
    "collapsed": false,
    "deletable": true,
    "editable": true
   },
   "outputs": [
    {
     "name": "stdout",
     "output_type": "stream",
     "text": [
      "Tests Passed\n"
     ]
    }
   ],
   "source": [
    "def token_lookup():\n",
    "    \"\"\"\n",
    "    Generate a dict to turn punctuation into a token.\n",
    "    :return: Tokenize dictionary where the key is the punctuation and the value is the token\n",
    "    \"\"\"\n",
    "    # TODO: Implement Function\n",
    "    tokens = {}\n",
    "    tokens['.'] = '||PERIOD||'\n",
    "    tokens[','] = '||COMMA||'\n",
    "    tokens['\"'] = '||QUOTATION_MARK||'\n",
    "    tokens[';'] = '||SEMICOLON||'\n",
    "    tokens['!'] = '||EXCLAMATION_MARK||'\n",
    "    tokens['?'] = '||QUESTION_MARK||'\n",
    "    tokens['('] = '||LEFT_PARANTHESES||'\n",
    "    tokens[')'] = '||RIGHT_PARANTHESES||'\n",
    "    tokens['--'] = '||DASH||'\n",
    "    tokens['\\n'] = '||RETURN||'\n",
    "    \n",
    "    return tokens\n",
    "\n",
    "\"\"\"\n",
    "DON'T MODIFY ANYTHING IN THIS CELL THAT IS BELOW THIS LINE\n",
    "\"\"\"\n",
    "tests.test_tokenize(token_lookup)"
   ]
  },
  {
   "cell_type": "markdown",
   "metadata": {
    "deletable": true,
    "editable": true
   },
   "source": [
    "## Preprocess all the data and save it\n",
    "Running the code cell below will preprocess all the data and save it to file."
   ]
  },
  {
   "cell_type": "code",
   "execution_count": 5,
   "metadata": {
    "collapsed": true,
    "deletable": true,
    "editable": true
   },
   "outputs": [],
   "source": [
    "\"\"\"\n",
    "DON'T MODIFY ANYTHING IN THIS CELL\n",
    "\"\"\"\n",
    "# Preprocess Training, Validation, and Testing Data\n",
    "helper.preprocess_and_save_data(data_dir, token_lookup, create_lookup_tables)"
   ]
  },
  {
   "cell_type": "markdown",
   "metadata": {
    "deletable": true,
    "editable": true
   },
   "source": [
    "# Check Point\n",
    "This is your first checkpoint. If you ever decide to come back to this notebook or have to restart the notebook, you can start from here. The preprocessed data has been saved to disk."
   ]
  },
  {
   "cell_type": "code",
   "execution_count": 6,
   "metadata": {
    "collapsed": true,
    "deletable": true,
    "editable": true
   },
   "outputs": [],
   "source": [
    "\"\"\"\n",
    "DON'T MODIFY ANYTHING IN THIS CELL\n",
    "\"\"\"\n",
    "import helper\n",
    "import numpy as np\n",
    "import problem_unittests as tests\n",
    "\n",
    "int_text, vocab_to_int, int_to_vocab, token_dict = helper.load_preprocess()"
   ]
  },
  {
   "cell_type": "markdown",
   "metadata": {
    "deletable": true,
    "editable": true
   },
   "source": [
    "## Build the Neural Network\n",
    "You'll build the components necessary to build a RNN by implementing the following functions below:\n",
    "- get_inputs\n",
    "- get_init_cell\n",
    "- get_embed\n",
    "- build_rnn\n",
    "- build_nn\n",
    "- get_batches\n",
    "\n",
    "### Check the Version of TensorFlow and Access to GPU"
   ]
  },
  {
   "cell_type": "code",
   "execution_count": 7,
   "metadata": {
    "collapsed": false,
    "deletable": true,
    "editable": true
   },
   "outputs": [
    {
     "name": "stdout",
     "output_type": "stream",
     "text": [
      "TensorFlow Version: 1.8.0\n"
     ]
    },
    {
     "name": "stderr",
     "output_type": "stream",
     "text": [
      "/home/ubuntu/anaconda3/envs/tensorflow_p36/lib/python3.6/site-packages/ipykernel/__main__.py:14: UserWarning: No GPU found. Please use a GPU to train your neural network.\n"
     ]
    }
   ],
   "source": [
    "\"\"\"\n",
    "DON'T MODIFY ANYTHING IN THIS CELL\n",
    "\"\"\"\n",
    "from distutils.version import LooseVersion\n",
    "import warnings\n",
    "import tensorflow as tf\n",
    "\n",
    "# Check TensorFlow Version\n",
    "assert LooseVersion(tf.__version__) >= LooseVersion('1.3'), 'Please use TensorFlow version 1.3 or newer'\n",
    "print('TensorFlow Version: {}'.format(tf.__version__))\n",
    "\n",
    "# Check for a GPU\n",
    "if not tf.test.gpu_device_name():\n",
    "    warnings.warn('No GPU found. Please use a GPU to train your neural network.')\n",
    "else:\n",
    "    print('Default GPU Device: {}'.format(tf.test.gpu_device_name()))"
   ]
  },
  {
   "cell_type": "markdown",
   "metadata": {
    "deletable": true,
    "editable": true
   },
   "source": [
    "### Input\n",
    "Implement the `get_inputs()` function to create TF Placeholders for the Neural Network.  It should create the following placeholders:\n",
    "- Input text placeholder named \"input\" using the [TF Placeholder](https://www.tensorflow.org/api_docs/python/tf/placeholder) `name` parameter.\n",
    "- Targets placeholder\n",
    "- Learning Rate placeholder\n",
    "\n",
    "Return the placeholders in the following tuple `(Input, Targets, LearningRate)`"
   ]
  },
  {
   "cell_type": "code",
   "execution_count": 8,
   "metadata": {
    "collapsed": false,
    "deletable": true,
    "editable": true
   },
   "outputs": [
    {
     "name": "stdout",
     "output_type": "stream",
     "text": [
      "Tests Passed\n"
     ]
    }
   ],
   "source": [
    "def get_inputs():\n",
    "    \"\"\"\n",
    "    Create TF Placeholders for input, targets, and learning rate.\n",
    "    :return: Tuple (input, targets, learning rate)\n",
    "    \"\"\"\n",
    "    # TODO: Implement Function\n",
    "    input = tf.placeholder(tf.int32, shape=[None, None], name='input')\n",
    "    targets = tf.placeholder(tf.int32, shape=[None, None], name='targets')\n",
    "    learning_rate = tf.placeholder(tf.float32, name='learning_rate')\n",
    "    return (input, targets, learning_rate)\n",
    "\n",
    "\n",
    "\"\"\"\n",
    "DON'T MODIFY ANYTHING IN THIS CELL THAT IS BELOW THIS LINE\n",
    "\"\"\"\n",
    "tests.test_get_inputs(get_inputs)"
   ]
  },
  {
   "cell_type": "markdown",
   "metadata": {
    "deletable": true,
    "editable": true
   },
   "source": [
    "### Build RNN Cell and Initialize\n",
    "Stack one or more [`BasicLSTMCells`](https://www.tensorflow.org/api_docs/python/tf/contrib/rnn/BasicLSTMCell) in a [`MultiRNNCell`](https://www.tensorflow.org/api_docs/python/tf/contrib/rnn/MultiRNNCell).\n",
    "- The Rnn size should be set using `rnn_size`\n",
    "- Initalize Cell State using the MultiRNNCell's [`zero_state()`](https://www.tensorflow.org/api_docs/python/tf/contrib/rnn/MultiRNNCell#zero_state) function\n",
    "    - Apply the name \"initial_state\" to the initial state using [`tf.identity()`](https://www.tensorflow.org/api_docs/python/tf/identity)\n",
    "\n",
    "Return the cell and initial state in the following tuple `(Cell, InitialState)`"
   ]
  },
  {
   "cell_type": "code",
   "execution_count": 9,
   "metadata": {
    "collapsed": false,
    "deletable": true,
    "editable": true
   },
   "outputs": [
    {
     "name": "stdout",
     "output_type": "stream",
     "text": [
      "Tests Passed\n"
     ]
    }
   ],
   "source": [
    "def get_init_cell(batch_size, rnn_size):\n",
    "    \"\"\"\n",
    "    Create an RNN Cell and initialize it.\n",
    "    :param batch_size: Size of batches\n",
    "    :param rnn_size: Size of RNNs\n",
    "    :return: Tuple (cell, initialize state)\n",
    "    \"\"\"\n",
    "    # TODO: Implement Function\n",
    "    num_layers = 1\n",
    "    lstm = tf.contrib.rnn.BasicLSTMCell(rnn_size)\n",
    "    cell = tf.contrib.rnn.MultiRNNCell([lstm] * num_layers)\n",
    "    initial_state = cell.zero_state(batch_size, tf.float32)\n",
    "    initial_state = tf.identity(initial_state, name='initial_state')\n",
    "    return (cell, initial_state)\n",
    "\n",
    "\n",
    "\"\"\"\n",
    "DON'T MODIFY ANYTHING IN THIS CELL THAT IS BELOW THIS LINE\n",
    "\"\"\"\n",
    "tests.test_get_init_cell(get_init_cell)"
   ]
  },
  {
   "cell_type": "markdown",
   "metadata": {
    "deletable": true,
    "editable": true
   },
   "source": [
    "### Word Embedding\n",
    "Apply embedding to `input_data` using TensorFlow.  Return the embedded sequence."
   ]
  },
  {
   "cell_type": "code",
   "execution_count": 10,
   "metadata": {
    "collapsed": false,
    "deletable": true,
    "editable": true
   },
   "outputs": [
    {
     "name": "stdout",
     "output_type": "stream",
     "text": [
      "Tests Passed\n"
     ]
    }
   ],
   "source": [
    "def get_embed(input_data, vocab_size, embed_dim):\n",
    "    \"\"\"\n",
    "    Create embedding for <input_data>.\n",
    "    :param input_data: TF placeholder for text input.\n",
    "    :param vocab_size: Number of words in vocabulary.\n",
    "    :param embed_dim: Number of embedding dimensions\n",
    "    :return: Embedded input.\n",
    "    \"\"\"\n",
    "    # TODO: Implement Function\n",
    "    embedding = tf.Variable(tf.random_uniform((vocab_size, embed_dim), -1, 1))\n",
    "    embed = tf.nn.embedding_lookup(embedding, input_data)\n",
    "    return embed\n",
    "\n",
    "\n",
    "\"\"\"\n",
    "DON'T MODIFY ANYTHING IN THIS CELL THAT IS BELOW THIS LINE\n",
    "\"\"\"\n",
    "tests.test_get_embed(get_embed)"
   ]
  },
  {
   "cell_type": "markdown",
   "metadata": {
    "deletable": true,
    "editable": true
   },
   "source": [
    "### Build RNN\n",
    "You created a RNN Cell in the `get_init_cell()` function.  Time to use the cell to create a RNN.\n",
    "- Build the RNN using the [`tf.nn.dynamic_rnn()`](https://www.tensorflow.org/api_docs/python/tf/nn/dynamic_rnn)\n",
    " - Apply the name \"final_state\" to the final state using [`tf.identity()`](https://www.tensorflow.org/api_docs/python/tf/identity)\n",
    "\n",
    "Return the outputs and final_state state in the following tuple `(Outputs, FinalState)` "
   ]
  },
  {
   "cell_type": "code",
   "execution_count": 11,
   "metadata": {
    "collapsed": false,
    "deletable": true,
    "editable": true
   },
   "outputs": [
    {
     "name": "stdout",
     "output_type": "stream",
     "text": [
      "Tests Passed\n"
     ]
    }
   ],
   "source": [
    "def build_rnn(cell, inputs):\n",
    "    \"\"\"\n",
    "    Create a RNN using a RNN Cell\n",
    "    :param cell: RNN Cell\n",
    "    :param inputs: Input text data\n",
    "    :return: Tuple (Outputs, Final State)\n",
    "    \"\"\"\n",
    "    # TODO: Implement Function\n",
    "    outputs, final_state = tf.nn.dynamic_rnn(cell, inputs=inputs, dtype=tf.float32)\n",
    "    final_state = tf.identity(final_state, name = \"final_state\")\n",
    "    return (outputs, final_state)\n",
    "\n",
    "\n",
    "\"\"\"\n",
    "DON'T MODIFY ANYTHING IN THIS CELL THAT IS BELOW THIS LINE\n",
    "\"\"\"\n",
    "tests.test_build_rnn(build_rnn)"
   ]
  },
  {
   "cell_type": "markdown",
   "metadata": {
    "deletable": true,
    "editable": true
   },
   "source": [
    "### Build the Neural Network\n",
    "Apply the functions you implemented above to:\n",
    "- Apply embedding to `input_data` using your `get_embed(input_data, vocab_size, embed_dim)` function.\n",
    "- Build RNN using `cell` and your `build_rnn(cell, inputs)` function.\n",
    "- Apply a fully connected layer with a linear activation and `vocab_size` as the number of outputs.\n",
    "\n",
    "Return the logits and final state in the following tuple (Logits, FinalState) "
   ]
  },
  {
   "cell_type": "code",
   "execution_count": 12,
   "metadata": {
    "collapsed": false,
    "deletable": true,
    "editable": true
   },
   "outputs": [
    {
     "name": "stdout",
     "output_type": "stream",
     "text": [
      "Tests Passed\n"
     ]
    }
   ],
   "source": [
    "def build_nn(cell, rnn_size, input_data, vocab_size, embed_dim):\n",
    "    \"\"\"\n",
    "    Build part of the neural network\n",
    "    :param cell: RNN cell\n",
    "    :param rnn_size: Size of rnns\n",
    "    :param input_data: Input data\n",
    "    :param vocab_size: Vocabulary size\n",
    "    :param embed_dim: Number of embedding dimensions\n",
    "    :return: Tuple (Logits, FinalState)\n",
    "    \"\"\"\n",
    "    # TODO: Implement Function\n",
    "    ### Apply embedding to input_data using your get_embed(input_data, vocab_size, embed_dim) function.\n",
    "    embedded_data = get_embed(input_data, vocab_size, embed_dim)\n",
    "    \n",
    "    ### Build RNN using cell and your build_rnn(cell, inputs) function.\n",
    "    outputs, final_state = build_rnn(cell, embedded_data)\n",
    "    FinalState = final_state\n",
    "    \n",
    "    ### Apply a fully connected layer with a linear activation and vocab_size as the number of outputs.\n",
    "    logits = tf.contrib.layers.fully_connected(outputs, vocab_size, activation_fn=None)\n",
    "    \n",
    "    return (logits, FinalState)\n",
    "\n",
    "\n",
    "\"\"\"\n",
    "DON'T MODIFY ANYTHING IN THIS CELL THAT IS BELOW THIS LINE\n",
    "\"\"\"\n",
    "tests.test_build_nn(build_nn)"
   ]
  },
  {
   "cell_type": "markdown",
   "metadata": {
    "deletable": true,
    "editable": true
   },
   "source": [
    "### Batches\n",
    "Implement `get_batches` to create batches of input and targets using `int_text`.  The batches should be a Numpy array with the shape `(number of batches, 2, batch size, sequence length)`. Each batch contains two elements:\n",
    "- The first element is a single batch of **input** with the shape `[batch size, sequence length]`\n",
    "- The second element is a single batch of **targets** with the shape `[batch size, sequence length]`\n",
    "\n",
    "If you can't fill the last batch with enough data, drop the last batch.\n",
    "\n",
    "For example, `get_batches([1, 2, 3, 4, 5, 6, 7, 8, 9, 10, 11, 12, 13, 14, 15, 16, 17, 18, 19, 20], 3, 2)` would return a Numpy array of the following:\n",
    "```\n",
    "[\n",
    "  # First Batch\n",
    "  [\n",
    "    # Batch of Input\n",
    "    [[ 1  2], [ 7  8], [13 14]]\n",
    "    # Batch of targets\n",
    "    [[ 2  3], [ 8  9], [14 15]]\n",
    "  ]\n",
    "\n",
    "  # Second Batch\n",
    "  [\n",
    "    # Batch of Input\n",
    "    [[ 3  4], [ 9 10], [15 16]]\n",
    "    # Batch of targets\n",
    "    [[ 4  5], [10 11], [16 17]]\n",
    "  ]\n",
    "\n",
    "  # Third Batch\n",
    "  [\n",
    "    # Batch of Input\n",
    "    [[ 5  6], [11 12], [17 18]]\n",
    "    # Batch of targets\n",
    "    [[ 6  7], [12 13], [18  1]]\n",
    "  ]\n",
    "]\n",
    "```\n",
    "\n",
    "Notice that the last target value in the last batch is the first input value of the first batch. In this case, `1`. This is a common technique used when creating sequence batches, although it is rather unintuitive."
   ]
  },
  {
   "cell_type": "code",
   "execution_count": 13,
   "metadata": {
    "collapsed": false,
    "deletable": true,
    "editable": true
   },
   "outputs": [
    {
     "name": "stdout",
     "output_type": "stream",
     "text": [
      "Tests Passed\n"
     ]
    }
   ],
   "source": [
    "def get_batches(int_text, batch_size, seq_length):\n",
    "    \"\"\"\n",
    "    Return batches of input and target\n",
    "    :param int_text: Text with the words replaced by their ids\n",
    "    :param batch_size: The size of batch\n",
    "    :param seq_length: The length of sequence\n",
    "    :return: Batches as a Numpy array\n",
    "    \"\"\"\n",
    "    # TODO: Implement Function\n",
    "    chars_per_batch = batch_size * seq_length\n",
    "    n_batches = int(len(int_text)//chars_per_batch)\n",
    "    \n",
    "    ### Create Empty array with Zeros.\n",
    "    batches = np.zeros((n_batches, 2, batch_size, seq_length))\n",
    "    \n",
    "    # Only full batches\n",
    "    int_text = int_text[:n_batches * chars_per_batch]\n",
    "    \n",
    "    ### Going through the Old way of using for loops and implementing logic.\n",
    "    ### I am trying slowly to move towards numpy for efficient programming.\n",
    "    for idx in range(n_batches):\n",
    "        for seq_idx in range(batch_size):\n",
    "            start_idx = ((seq_idx*n_batches)+idx)*seq_length\n",
    "            end_idx = start_idx + seq_length\n",
    "            \n",
    "            batches[idx][0][seq_idx] = int_text[start_idx:end_idx]\n",
    "            if end_idx < len(int_text):\n",
    "                batches[idx][1][seq_idx] = int_text[start_idx+1:end_idx+1]\n",
    "            else:\n",
    "                ### Condition for Last Batch\n",
    "                batches[idx][1][seq_idx] = int_text[start_idx+1:]+int_text[:1]\n",
    "            \n",
    "\n",
    "    return batches\n",
    "\n",
    "\n",
    "\"\"\"\n",
    "DON'T MODIFY ANYTHING IN THIS CELL THAT IS BELOW THIS LINE\n",
    "\"\"\"\n",
    "tests.test_get_batches(get_batches)"
   ]
  },
  {
   "cell_type": "markdown",
   "metadata": {
    "deletable": true,
    "editable": true
   },
   "source": [
    "## Neural Network Training\n",
    "### Hyperparameters\n",
    "Tune the following parameters:\n",
    "\n",
    "- Set `num_epochs` to the number of epochs.\n",
    "- Set `batch_size` to the batch size.\n",
    "- Set `rnn_size` to the size of the RNNs.\n",
    "- Set `embed_dim` to the size of the embedding.\n",
    "- Set `seq_length` to the length of sequence.\n",
    "- Set `learning_rate` to the learning rate.\n",
    "- Set `show_every_n_batches` to the number of batches the neural network should print progress."
   ]
  },
  {
   "cell_type": "code",
   "execution_count": 14,
   "metadata": {
    "collapsed": true,
    "deletable": true,
    "editable": true
   },
   "outputs": [],
   "source": [
    "# Number of Epochs\n",
    "num_epochs = 128\n",
    "# Batch Size\n",
    "batch_size = 110\n",
    "# RNN Size\n",
    "rnn_size = 240\n",
    "# Embedding Dimension Size\n",
    "embed_dim = 256\n",
    "# Sequence Length\n",
    "seq_length = 64\n",
    "# Learning Rate\n",
    "learning_rate = 0.01\n",
    "# Show stats for every n number of batches\n",
    "show_every_n_batches = 5\n",
    "\n",
    "\"\"\"\n",
    "DON'T MODIFY ANYTHING IN THIS CELL THAT IS BELOW THIS LINE\n",
    "\"\"\"\n",
    "save_dir = './save'"
   ]
  },
  {
   "cell_type": "markdown",
   "metadata": {
    "deletable": true,
    "editable": true
   },
   "source": [
    "### Build the Graph\n",
    "Build the graph using the neural network you implemented."
   ]
  },
  {
   "cell_type": "code",
   "execution_count": 15,
   "metadata": {
    "collapsed": true,
    "deletable": true,
    "editable": true
   },
   "outputs": [],
   "source": [
    "\"\"\"\n",
    "DON'T MODIFY ANYTHING IN THIS CELL\n",
    "\"\"\"\n",
    "from tensorflow.contrib import seq2seq\n",
    "\n",
    "train_graph = tf.Graph()\n",
    "with train_graph.as_default():\n",
    "    vocab_size = len(int_to_vocab)\n",
    "    input_text, targets, lr = get_inputs()\n",
    "    input_data_shape = tf.shape(input_text)\n",
    "    cell, initial_state = get_init_cell(input_data_shape[0], rnn_size)\n",
    "    logits, final_state = build_nn(cell, rnn_size, input_text, vocab_size, embed_dim)\n",
    "\n",
    "    # Probabilities for generating words\n",
    "    probs = tf.nn.softmax(logits, name='probs')\n",
    "\n",
    "    # Loss function\n",
    "    cost = seq2seq.sequence_loss(\n",
    "        logits,\n",
    "        targets,\n",
    "        tf.ones([input_data_shape[0], input_data_shape[1]]))\n",
    "\n",
    "    # Optimizer\n",
    "    optimizer = tf.train.AdamOptimizer(lr)\n",
    "\n",
    "    # Gradient Clipping\n",
    "    gradients = optimizer.compute_gradients(cost)\n",
    "    capped_gradients = [(tf.clip_by_value(grad, -1., 1.), var) for grad, var in gradients if grad is not None]\n",
    "    train_op = optimizer.apply_gradients(capped_gradients)"
   ]
  },
  {
   "cell_type": "markdown",
   "metadata": {
    "deletable": true,
    "editable": true
   },
   "source": [
    "## Train\n",
    "Train the neural network on the preprocessed data.  If you have a hard time getting a good loss, check the [forums](https://discussions.udacity.com/) to see if anyone is having the same problem."
   ]
  },
  {
   "cell_type": "code",
   "execution_count": 16,
   "metadata": {
    "collapsed": false,
    "deletable": true,
    "editable": true,
    "scrolled": false
   },
   "outputs": [
    {
     "name": "stdout",
     "output_type": "stream",
     "text": [
      "Epoch   0 Batch    0/9   train_loss = 8.823\n",
      "Epoch   0 Batch    5/9   train_loss = 6.376\n",
      "Epoch   1 Batch    1/9   train_loss = 6.021\n",
      "Epoch   1 Batch    6/9   train_loss = 5.494\n",
      "Epoch   2 Batch    2/9   train_loss = 5.265\n",
      "Epoch   2 Batch    7/9   train_loss = 4.956\n",
      "Epoch   3 Batch    3/9   train_loss = 4.724\n",
      "Epoch   3 Batch    8/9   train_loss = 4.672\n",
      "Epoch   4 Batch    4/9   train_loss = 4.429\n",
      "Epoch   5 Batch    0/9   train_loss = 4.212\n",
      "Epoch   5 Batch    5/9   train_loss = 4.190\n",
      "Epoch   6 Batch    1/9   train_loss = 4.003\n",
      "Epoch   6 Batch    6/9   train_loss = 3.898\n",
      "Epoch   7 Batch    2/9   train_loss = 3.710\n",
      "Epoch   7 Batch    7/9   train_loss = 3.607\n",
      "Epoch   8 Batch    3/9   train_loss = 3.464\n",
      "Epoch   8 Batch    8/9   train_loss = 3.504\n",
      "Epoch   9 Batch    4/9   train_loss = 3.294\n",
      "Epoch  10 Batch    0/9   train_loss = 3.178\n",
      "Epoch  10 Batch    5/9   train_loss = 3.112\n",
      "Epoch  11 Batch    1/9   train_loss = 3.031\n",
      "Epoch  11 Batch    6/9   train_loss = 2.945\n",
      "Epoch  12 Batch    2/9   train_loss = 2.843\n",
      "Epoch  12 Batch    7/9   train_loss = 2.764\n",
      "Epoch  13 Batch    3/9   train_loss = 2.717\n",
      "Epoch  13 Batch    8/9   train_loss = 2.681\n",
      "Epoch  14 Batch    4/9   train_loss = 2.582\n",
      "Epoch  15 Batch    0/9   train_loss = 2.486\n",
      "Epoch  15 Batch    5/9   train_loss = 2.466\n",
      "Epoch  16 Batch    1/9   train_loss = 2.394\n",
      "Epoch  16 Batch    6/9   train_loss = 2.352\n",
      "Epoch  17 Batch    2/9   train_loss = 2.251\n",
      "Epoch  17 Batch    7/9   train_loss = 2.170\n",
      "Epoch  18 Batch    3/9   train_loss = 2.145\n",
      "Epoch  18 Batch    8/9   train_loss = 2.115\n",
      "Epoch  19 Batch    4/9   train_loss = 2.050\n",
      "Epoch  20 Batch    0/9   train_loss = 2.007\n",
      "Epoch  20 Batch    5/9   train_loss = 1.970\n",
      "Epoch  21 Batch    1/9   train_loss = 1.957\n",
      "Epoch  21 Batch    6/9   train_loss = 1.911\n",
      "Epoch  22 Batch    2/9   train_loss = 1.858\n",
      "Epoch  22 Batch    7/9   train_loss = 1.804\n",
      "Epoch  23 Batch    3/9   train_loss = 1.800\n",
      "Epoch  23 Batch    8/9   train_loss = 1.733\n",
      "Epoch  24 Batch    4/9   train_loss = 1.681\n",
      "Epoch  25 Batch    0/9   train_loss = 1.645\n",
      "Epoch  25 Batch    5/9   train_loss = 1.583\n",
      "Epoch  26 Batch    1/9   train_loss = 1.543\n",
      "Epoch  26 Batch    6/9   train_loss = 1.522\n",
      "Epoch  27 Batch    2/9   train_loss = 1.480\n",
      "Epoch  27 Batch    7/9   train_loss = 1.447\n",
      "Epoch  28 Batch    3/9   train_loss = 1.446\n",
      "Epoch  28 Batch    8/9   train_loss = 1.373\n",
      "Epoch  29 Batch    4/9   train_loss = 1.359\n",
      "Epoch  30 Batch    0/9   train_loss = 1.339\n",
      "Epoch  30 Batch    5/9   train_loss = 1.292\n",
      "Epoch  31 Batch    1/9   train_loss = 1.267\n",
      "Epoch  31 Batch    6/9   train_loss = 1.243\n",
      "Epoch  32 Batch    2/9   train_loss = 1.189\n",
      "Epoch  32 Batch    7/9   train_loss = 1.173\n",
      "Epoch  33 Batch    3/9   train_loss = 1.197\n",
      "Epoch  33 Batch    8/9   train_loss = 1.118\n",
      "Epoch  34 Batch    4/9   train_loss = 1.125\n",
      "Epoch  35 Batch    0/9   train_loss = 1.120\n",
      "Epoch  35 Batch    5/9   train_loss = 1.090\n",
      "Epoch  36 Batch    1/9   train_loss = 1.071\n",
      "Epoch  36 Batch    6/9   train_loss = 1.062\n",
      "Epoch  37 Batch    2/9   train_loss = 1.018\n",
      "Epoch  37 Batch    7/9   train_loss = 1.018\n",
      "Epoch  38 Batch    3/9   train_loss = 1.023\n",
      "Epoch  38 Batch    8/9   train_loss = 0.992\n",
      "Epoch  39 Batch    4/9   train_loss = 0.994\n",
      "Epoch  40 Batch    0/9   train_loss = 0.990\n",
      "Epoch  40 Batch    5/9   train_loss = 0.933\n",
      "Epoch  41 Batch    1/9   train_loss = 0.918\n",
      "Epoch  41 Batch    6/9   train_loss = 0.912\n",
      "Epoch  42 Batch    2/9   train_loss = 0.871\n",
      "Epoch  42 Batch    7/9   train_loss = 0.885\n",
      "Epoch  43 Batch    3/9   train_loss = 0.882\n",
      "Epoch  43 Batch    8/9   train_loss = 0.828\n",
      "Epoch  44 Batch    4/9   train_loss = 0.811\n",
      "Epoch  45 Batch    0/9   train_loss = 0.816\n",
      "Epoch  45 Batch    5/9   train_loss = 0.780\n",
      "Epoch  46 Batch    1/9   train_loss = 0.778\n",
      "Epoch  46 Batch    6/9   train_loss = 0.780\n",
      "Epoch  47 Batch    2/9   train_loss = 0.714\n",
      "Epoch  47 Batch    7/9   train_loss = 0.714\n",
      "Epoch  48 Batch    3/9   train_loss = 0.709\n",
      "Epoch  48 Batch    8/9   train_loss = 0.675\n",
      "Epoch  49 Batch    4/9   train_loss = 0.657\n",
      "Epoch  50 Batch    0/9   train_loss = 0.668\n",
      "Epoch  50 Batch    5/9   train_loss = 0.631\n",
      "Epoch  51 Batch    1/9   train_loss = 0.624\n",
      "Epoch  51 Batch    6/9   train_loss = 0.641\n",
      "Epoch  52 Batch    2/9   train_loss = 0.615\n",
      "Epoch  52 Batch    7/9   train_loss = 0.613\n",
      "Epoch  53 Batch    3/9   train_loss = 0.598\n",
      "Epoch  53 Batch    8/9   train_loss = 0.545\n",
      "Epoch  54 Batch    4/9   train_loss = 0.521\n",
      "Epoch  55 Batch    0/9   train_loss = 0.531\n",
      "Epoch  55 Batch    5/9   train_loss = 0.496\n",
      "Epoch  56 Batch    1/9   train_loss = 0.482\n",
      "Epoch  56 Batch    6/9   train_loss = 0.477\n",
      "Epoch  57 Batch    2/9   train_loss = 0.448\n",
      "Epoch  57 Batch    7/9   train_loss = 0.465\n",
      "Epoch  58 Batch    3/9   train_loss = 0.468\n",
      "Epoch  58 Batch    8/9   train_loss = 0.432\n",
      "Epoch  59 Batch    4/9   train_loss = 0.407\n",
      "Epoch  60 Batch    0/9   train_loss = 0.415\n",
      "Epoch  60 Batch    5/9   train_loss = 0.392\n",
      "Epoch  61 Batch    1/9   train_loss = 0.393\n",
      "Epoch  61 Batch    6/9   train_loss = 0.400\n",
      "Epoch  62 Batch    2/9   train_loss = 0.371\n",
      "Epoch  62 Batch    7/9   train_loss = 0.387\n",
      "Epoch  63 Batch    3/9   train_loss = 0.394\n",
      "Epoch  63 Batch    8/9   train_loss = 0.359\n",
      "Epoch  64 Batch    4/9   train_loss = 0.338\n",
      "Epoch  65 Batch    0/9   train_loss = 0.355\n",
      "Epoch  65 Batch    5/9   train_loss = 0.339\n",
      "Epoch  66 Batch    1/9   train_loss = 0.332\n",
      "Epoch  66 Batch    6/9   train_loss = 0.334\n",
      "Epoch  67 Batch    2/9   train_loss = 0.317\n",
      "Epoch  67 Batch    7/9   train_loss = 0.328\n",
      "Epoch  68 Batch    3/9   train_loss = 0.343\n",
      "Epoch  68 Batch    8/9   train_loss = 0.315\n",
      "Epoch  69 Batch    4/9   train_loss = 0.294\n",
      "Epoch  70 Batch    0/9   train_loss = 0.312\n",
      "Epoch  70 Batch    5/9   train_loss = 0.289\n",
      "Epoch  71 Batch    1/9   train_loss = 0.288\n",
      "Epoch  71 Batch    6/9   train_loss = 0.299\n",
      "Epoch  72 Batch    2/9   train_loss = 0.291\n",
      "Epoch  72 Batch    7/9   train_loss = 0.287\n",
      "Epoch  73 Batch    3/9   train_loss = 0.303\n",
      "Epoch  73 Batch    8/9   train_loss = 0.263\n",
      "Epoch  74 Batch    4/9   train_loss = 0.253\n",
      "Epoch  75 Batch    0/9   train_loss = 0.271\n",
      "Epoch  75 Batch    5/9   train_loss = 0.256\n",
      "Epoch  76 Batch    1/9   train_loss = 0.255\n",
      "Epoch  76 Batch    6/9   train_loss = 0.268\n",
      "Epoch  77 Batch    2/9   train_loss = 0.244\n",
      "Epoch  77 Batch    7/9   train_loss = 0.259\n",
      "Epoch  78 Batch    3/9   train_loss = 0.284\n",
      "Epoch  78 Batch    8/9   train_loss = 0.261\n",
      "Epoch  79 Batch    4/9   train_loss = 0.265\n",
      "Epoch  80 Batch    0/9   train_loss = 0.286\n",
      "Epoch  80 Batch    5/9   train_loss = 0.264\n",
      "Epoch  81 Batch    1/9   train_loss = 0.257\n",
      "Epoch  81 Batch    6/9   train_loss = 0.244\n",
      "Epoch  82 Batch    2/9   train_loss = 0.225\n",
      "Epoch  82 Batch    7/9   train_loss = 0.227\n",
      "Epoch  83 Batch    3/9   train_loss = 0.241\n",
      "Epoch  83 Batch    8/9   train_loss = 0.225\n",
      "Epoch  84 Batch    4/9   train_loss = 0.208\n",
      "Epoch  85 Batch    0/9   train_loss = 0.234\n",
      "Epoch  85 Batch    5/9   train_loss = 0.233\n",
      "Epoch  86 Batch    1/9   train_loss = 0.242\n",
      "Epoch  86 Batch    6/9   train_loss = 0.244\n",
      "Epoch  87 Batch    2/9   train_loss = 0.236\n",
      "Epoch  87 Batch    7/9   train_loss = 0.251\n",
      "Epoch  88 Batch    3/9   train_loss = 0.285\n",
      "Epoch  88 Batch    8/9   train_loss = 0.274\n",
      "Epoch  89 Batch    4/9   train_loss = 0.253\n",
      "Epoch  90 Batch    0/9   train_loss = 0.259\n",
      "Epoch  90 Batch    5/9   train_loss = 0.231\n",
      "Epoch  91 Batch    1/9   train_loss = 0.219\n",
      "Epoch  91 Batch    6/9   train_loss = 0.210\n",
      "Epoch  92 Batch    2/9   train_loss = 0.183\n",
      "Epoch  92 Batch    7/9   train_loss = 0.189\n",
      "Epoch  93 Batch    3/9   train_loss = 0.200\n",
      "Epoch  93 Batch    8/9   train_loss = 0.175\n",
      "Epoch  94 Batch    4/9   train_loss = 0.154\n",
      "Epoch  95 Batch    0/9   train_loss = 0.146\n",
      "Epoch  95 Batch    5/9   train_loss = 0.125\n",
      "Epoch  96 Batch    1/9   train_loss = 0.117\n",
      "Epoch  96 Batch    6/9   train_loss = 0.119\n",
      "Epoch  97 Batch    2/9   train_loss = 0.105\n",
      "Epoch  97 Batch    7/9   train_loss = 0.107\n",
      "Epoch  98 Batch    3/9   train_loss = 0.113\n",
      "Epoch  98 Batch    8/9   train_loss = 0.096\n",
      "Epoch  99 Batch    4/9   train_loss = 0.089\n",
      "Epoch 100 Batch    0/9   train_loss = 0.092\n",
      "Epoch 100 Batch    5/9   train_loss = 0.083\n",
      "Epoch 101 Batch    1/9   train_loss = 0.079\n",
      "Epoch 101 Batch    6/9   train_loss = 0.084\n",
      "Epoch 102 Batch    2/9   train_loss = 0.077\n",
      "Epoch 102 Batch    7/9   train_loss = 0.081\n",
      "Epoch 103 Batch    3/9   train_loss = 0.088\n",
      "Epoch 103 Batch    8/9   train_loss = 0.077\n",
      "Epoch 104 Batch    4/9   train_loss = 0.073\n",
      "Epoch 105 Batch    0/9   train_loss = 0.077\n",
      "Epoch 105 Batch    5/9   train_loss = 0.071\n",
      "Epoch 106 Batch    1/9   train_loss = 0.066\n",
      "Epoch 106 Batch    6/9   train_loss = 0.072\n",
      "Epoch 107 Batch    2/9   train_loss = 0.068\n",
      "Epoch 107 Batch    7/9   train_loss = 0.071\n",
      "Epoch 108 Batch    3/9   train_loss = 0.077\n",
      "Epoch 108 Batch    8/9   train_loss = 0.069\n",
      "Epoch 109 Batch    4/9   train_loss = 0.065\n",
      "Epoch 110 Batch    0/9   train_loss = 0.069\n",
      "Epoch 110 Batch    5/9   train_loss = 0.064\n",
      "Epoch 111 Batch    1/9   train_loss = 0.059\n",
      "Epoch 111 Batch    6/9   train_loss = 0.065\n",
      "Epoch 112 Batch    2/9   train_loss = 0.061\n",
      "Epoch 112 Batch    7/9   train_loss = 0.064\n",
      "Epoch 113 Batch    3/9   train_loss = 0.069\n",
      "Epoch 113 Batch    8/9   train_loss = 0.061\n",
      "Epoch 114 Batch    4/9   train_loss = 0.059\n",
      "Epoch 115 Batch    0/9   train_loss = 0.062\n",
      "Epoch 115 Batch    5/9   train_loss = 0.058\n",
      "Epoch 116 Batch    1/9   train_loss = 0.054\n",
      "Epoch 116 Batch    6/9   train_loss = 0.058\n",
      "Epoch 117 Batch    2/9   train_loss = 0.055\n",
      "Epoch 117 Batch    7/9   train_loss = 0.056\n",
      "Epoch 118 Batch    3/9   train_loss = 0.061\n",
      "Epoch 118 Batch    8/9   train_loss = 0.055\n",
      "Epoch 119 Batch    4/9   train_loss = 0.054\n",
      "Epoch 120 Batch    0/9   train_loss = 0.056\n",
      "Epoch 120 Batch    5/9   train_loss = 0.053\n",
      "Epoch 121 Batch    1/9   train_loss = 0.048\n",
      "Epoch 121 Batch    6/9   train_loss = 0.052\n",
      "Epoch 122 Batch    2/9   train_loss = 0.050\n",
      "Epoch 122 Batch    7/9   train_loss = 0.051\n",
      "Epoch 123 Batch    3/9   train_loss = 0.056\n",
      "Epoch 123 Batch    8/9   train_loss = 0.051\n",
      "Epoch 124 Batch    4/9   train_loss = 0.050\n",
      "Epoch 125 Batch    0/9   train_loss = 0.052\n",
      "Epoch 125 Batch    5/9   train_loss = 0.050\n",
      "Epoch 126 Batch    1/9   train_loss = 0.045\n",
      "Epoch 126 Batch    6/9   train_loss = 0.049\n",
      "Epoch 127 Batch    2/9   train_loss = 0.047\n",
      "Epoch 127 Batch    7/9   train_loss = 0.048\n",
      "Model Trained and Saved\n"
     ]
    }
   ],
   "source": [
    "\"\"\"\n",
    "DON'T MODIFY ANYTHING IN THIS CELL\n",
    "\"\"\"\n",
    "batches = get_batches(int_text, batch_size, seq_length)\n",
    "\n",
    "with tf.Session(graph=train_graph) as sess:\n",
    "    sess.run(tf.global_variables_initializer())\n",
    "\n",
    "    for epoch_i in range(num_epochs):\n",
    "        state = sess.run(initial_state, {input_text: batches[0][0]})\n",
    "\n",
    "        for batch_i, (x, y) in enumerate(batches):\n",
    "            feed = {\n",
    "                input_text: x,\n",
    "                targets: y,\n",
    "                initial_state: state,\n",
    "                lr: learning_rate}\n",
    "            train_loss, state, _ = sess.run([cost, final_state, train_op], feed)\n",
    "\n",
    "            # Show every <show_every_n_batches> batches\n",
    "            if (epoch_i * len(batches) + batch_i) % show_every_n_batches == 0:\n",
    "                print('Epoch {:>3} Batch {:>4}/{}   train_loss = {:.3f}'.format(\n",
    "                    epoch_i,\n",
    "                    batch_i,\n",
    "                    len(batches),\n",
    "                    train_loss))\n",
    "\n",
    "    # Save Model\n",
    "    saver = tf.train.Saver()\n",
    "    saver.save(sess, save_dir)\n",
    "    print('Model Trained and Saved')"
   ]
  },
  {
   "cell_type": "markdown",
   "metadata": {
    "deletable": true,
    "editable": true
   },
   "source": [
    "## Save Parameters\n",
    "Save `seq_length` and `save_dir` for generating a new TV script."
   ]
  },
  {
   "cell_type": "code",
   "execution_count": 17,
   "metadata": {
    "collapsed": true,
    "deletable": true,
    "editable": true
   },
   "outputs": [],
   "source": [
    "\"\"\"\n",
    "DON'T MODIFY ANYTHING IN THIS CELL\n",
    "\"\"\"\n",
    "# Save parameters for checkpoint\n",
    "helper.save_params((seq_length, save_dir))"
   ]
  },
  {
   "cell_type": "markdown",
   "metadata": {
    "deletable": true,
    "editable": true
   },
   "source": [
    "# Checkpoint"
   ]
  },
  {
   "cell_type": "code",
   "execution_count": 18,
   "metadata": {
    "collapsed": true,
    "deletable": true,
    "editable": true
   },
   "outputs": [],
   "source": [
    "\"\"\"\n",
    "DON'T MODIFY ANYTHING IN THIS CELL\n",
    "\"\"\"\n",
    "import tensorflow as tf\n",
    "import numpy as np\n",
    "import helper\n",
    "import problem_unittests as tests\n",
    "\n",
    "_, vocab_to_int, int_to_vocab, token_dict = helper.load_preprocess()\n",
    "seq_length, load_dir = helper.load_params()"
   ]
  },
  {
   "cell_type": "markdown",
   "metadata": {
    "deletable": true,
    "editable": true
   },
   "source": [
    "## Implement Generate Functions\n",
    "### Get Tensors\n",
    "Get tensors from `loaded_graph` using the function [`get_tensor_by_name()`](https://www.tensorflow.org/api_docs/python/tf/Graph#get_tensor_by_name).  Get the tensors using the following names:\n",
    "- \"input:0\"\n",
    "- \"initial_state:0\"\n",
    "- \"final_state:0\"\n",
    "- \"probs:0\"\n",
    "\n",
    "Return the tensors in the following tuple `(InputTensor, InitialStateTensor, FinalStateTensor, ProbsTensor)` "
   ]
  },
  {
   "cell_type": "code",
   "execution_count": 19,
   "metadata": {
    "collapsed": false,
    "deletable": true,
    "editable": true
   },
   "outputs": [
    {
     "name": "stdout",
     "output_type": "stream",
     "text": [
      "Tests Passed\n"
     ]
    }
   ],
   "source": [
    "def get_tensors(loaded_graph):\n",
    "    \"\"\"\n",
    "    Get input, initial state, final state, and probabilities tensor from <loaded_graph>\n",
    "    :param loaded_graph: TensorFlow graph loaded from file\n",
    "    :return: Tuple (InputTensor, InitialStateTensor, FinalStateTensor, ProbsTensor)\n",
    "    \"\"\"\n",
    "    # TODO: Implement Function\n",
    "    input_t = loaded_graph.get_tensor_by_name('input:0')\n",
    "    initial_state_t = loaded_graph.get_tensor_by_name('initial_state:0')\n",
    "    final_state_t = loaded_graph.get_tensor_by_name('final_state:0')\n",
    "    probabilities_t = loaded_graph.get_tensor_by_name('probs:0')\n",
    "    return (input_t, initial_state_t, final_state_t, probabilities_t)\n",
    "\n",
    "\n",
    "\"\"\"\n",
    "DON'T MODIFY ANYTHING IN THIS CELL THAT IS BELOW THIS LINE\n",
    "\"\"\"\n",
    "tests.test_get_tensors(get_tensors)"
   ]
  },
  {
   "cell_type": "markdown",
   "metadata": {
    "deletable": true,
    "editable": true
   },
   "source": [
    "### Choose Word\n",
    "Implement the `pick_word()` function to select the next word using `probabilities`."
   ]
  },
  {
   "cell_type": "code",
   "execution_count": 20,
   "metadata": {
    "collapsed": false,
    "deletable": true,
    "editable": true
   },
   "outputs": [
    {
     "name": "stdout",
     "output_type": "stream",
     "text": [
      "Tests Passed\n"
     ]
    }
   ],
   "source": [
    "def pick_word(probabilities, int_to_vocab):\n",
    "    \"\"\"\n",
    "    Pick the next word in the generated text\n",
    "    :param probabilities: Probabilites of the next word\n",
    "    :param int_to_vocab: Dictionary of word ids as the keys and words as the values\n",
    "    :return: String of the predicted word\n",
    "    \"\"\"\n",
    "    # TODO: Implement Function\n",
    "    maximum_prob = np.argmax(probabilities)\n",
    "    return int_to_vocab[maximum_prob]\n",
    "\n",
    "\n",
    "\"\"\"\n",
    "DON'T MODIFY ANYTHING IN THIS CELL THAT IS BELOW THIS LINE\n",
    "\"\"\"\n",
    "tests.test_pick_word(pick_word)"
   ]
  },
  {
   "cell_type": "markdown",
   "metadata": {
    "deletable": true,
    "editable": true
   },
   "source": [
    "## Generate TV Script\n",
    "This will generate the TV script for you.  Set `gen_length` to the length of TV script you want to generate."
   ]
  },
  {
   "cell_type": "code",
   "execution_count": 21,
   "metadata": {
    "collapsed": false,
    "deletable": true,
    "editable": true
   },
   "outputs": [
    {
     "name": "stdout",
     "output_type": "stream",
     "text": [
      "INFO:tensorflow:Restoring parameters from ./save\n",
      "moe_szyslak:(nasty laugh) ah, ha ha, you got me, didn't ya?(handing homer a beer) all right, here you go--\" red tick beer.\"\n",
      "homer_simpson: hmm, bold-- refreshing... and something i can't quite put my finger on.\n",
      "homer_simpson: well, it's one a. m. a. wiener!\n",
      "barney_gumble: i see it, moe.(laughs)\n",
      "lisa_simpson:(into phone) listen you, your mom!\n",
      "marge_simpson: tell that woman it's over between you and her.\n",
      "apu_nahasapeemapetilon: yes. first thing in the morning. i promise.\n",
      "moe_szyslak: hey marge, uh, you care to buy you a little girl, we never seen homer more than an evil, blood-thirsty pirate who hated this town!\n",
      "moe_szyslak:(slow & horrified) it's the bow?\n",
      "moe_szyslak: yeah, well, ya remember that time i tried to hang myself and the rope broke? well, i sued the rope company and got a huge settlement... and this olive is you. now...\n",
      "homer_simpson:(grim) the ferry will be back in ten minutes. it'll take us home...\n",
      "homer_simpson: well, i trust you, moe. if you say i can beat this guy, then he doesn't stand a chance.\n",
      "\n",
      "\n",
      "larry: everybody go nuts, i'm buyin'!(to moe) hey, handsome, send the bill to my dad.\n",
      "moe_szyslak: okay, okay!(hands her the keys) don't know why i had 'em in the first place\n"
     ]
    }
   ],
   "source": [
    "gen_length = 300\n",
    "# homer_simpson, moe_szyslak, or Barney_Gumble\n",
    "prime_word = 'moe_szyslak'\n",
    "\n",
    "\"\"\"\n",
    "DON'T MODIFY ANYTHING IN THIS CELL THAT IS BELOW THIS LINE\n",
    "\"\"\"\n",
    "loaded_graph = tf.Graph()\n",
    "with tf.Session(graph=loaded_graph) as sess:\n",
    "    # Load saved model\n",
    "    loader = tf.train.import_meta_graph(load_dir + '.meta')\n",
    "    loader.restore(sess, load_dir)\n",
    "\n",
    "    # Get Tensors from loaded model\n",
    "    input_text, initial_state, final_state, probs = get_tensors(loaded_graph)\n",
    "\n",
    "    # Sentences generation setup\n",
    "    gen_sentences = [prime_word + ':']\n",
    "    prev_state = sess.run(initial_state, {input_text: np.array([[1]])})\n",
    "\n",
    "    # Generate sentences\n",
    "    for n in range(gen_length):\n",
    "        # Dynamic Input\n",
    "        dyn_input = [[vocab_to_int[word] for word in gen_sentences[-seq_length:]]]\n",
    "        dyn_seq_length = len(dyn_input[0])\n",
    "\n",
    "        # Get Prediction\n",
    "        probabilities, prev_state = sess.run(\n",
    "            [probs, final_state],\n",
    "            {input_text: dyn_input, initial_state: prev_state})\n",
    "        \n",
    "        pred_word = pick_word(probabilities[0][dyn_seq_length-1], int_to_vocab)\n",
    "\n",
    "        gen_sentences.append(pred_word)\n",
    "    \n",
    "    # Remove tokens\n",
    "    tv_script = ' '.join(gen_sentences)\n",
    "    for key, token in token_dict.items():\n",
    "        ending = ' ' if key in ['\\n', '(', '\"'] else ''\n",
    "        tv_script = tv_script.replace(' ' + token.lower(), key)\n",
    "    tv_script = tv_script.replace('\\n ', '\\n')\n",
    "    tv_script = tv_script.replace('( ', '(')\n",
    "        \n",
    "    print(tv_script)"
   ]
  },
  {
   "cell_type": "markdown",
   "metadata": {
    "deletable": true,
    "editable": true
   },
   "source": [
    "# The TV Script is Nonsensical\n",
    "It's ok if the TV script doesn't make any sense.  We trained on less than a megabyte of text.  In order to get good results, you'll have to use a smaller vocabulary or get more data.  Luckily there's more data!  As we mentioned in the beggining of this project, this is a subset of [another dataset](https://www.kaggle.com/wcukierski/the-simpsons-by-the-data).  We didn't have you train on all the data, because that would take too long.  However, you are free to train your neural network on all the data.  After you complete the project, of course.\n",
    "# Submitting This Project\n",
    "When submitting this project, make sure to run all the cells before saving the notebook. Save the notebook file as \"dlnd_tv_script_generation.ipynb\" and save it as a HTML file under \"File\" -> \"Download as\". Include the \"helper.py\" and \"problem_unittests.py\" files in your submission."
   ]
  }
 ],
 "metadata": {
  "kernelspec": {
   "display_name": "Python [conda env:tensorflow_p36]",
   "language": "python",
   "name": "conda-env-tensorflow_p36-py"
  },
  "language_info": {
   "codemirror_mode": {
    "name": "ipython",
    "version": 3
   },
   "file_extension": ".py",
   "mimetype": "text/x-python",
   "name": "python",
   "nbconvert_exporter": "python",
   "pygments_lexer": "ipython3",
   "version": "3.6.6"
  },
  "widgets": {
   "state": {},
   "version": "1.1.2"
  }
 },
 "nbformat": 4,
 "nbformat_minor": 1
}
